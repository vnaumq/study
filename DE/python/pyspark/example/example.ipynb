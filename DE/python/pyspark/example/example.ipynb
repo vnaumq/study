{
 "cells": [
  {
   "cell_type": "markdown",
   "metadata": {},
   "source": [
    "# 1. Чтение CSV, обработка данных и сохранение в Parquet"
   ]
  },
  {
   "cell_type": "code",
   "execution_count": null,
   "metadata": {},
   "outputs": [],
   "source": [
    "from pyspark.sql import SparkSession\n",
    "from pyspark.sql.functions import col\n",
    "\n",
    "# Инициализация SparkSession\n",
    "spark = SparkSession.builder.appName(\"Example\").getOrCreate()\n",
    "\n",
    "# Чтение CSV-файла\n",
    "df = spark.read.csv(\"data.csv\", header=True, inferSchema=True)\n",
    "\n",
    "# Фильтрация данных\n",
    "df_filtered = df.filter(col(\"age\") > 30)\n",
    "\n",
    "# Выбор нужных колонок\n",
    "df_selected = df_filtered.select(\"name\", \"age\", \"city\")\n",
    "\n",
    "# Сохранение в формате Parquet\n",
    "df_selected.write.parquet(\"output.parquet\", mode=\"overwrite\")\n",
    "\n",
    "# Остановка Spark\n",
    "spark.stop()"
   ]
  },
  {
   "cell_type": "markdown",
   "metadata": {},
   "source": [
    "# 2. Использование RDD для обработки данных"
   ]
  },
  {
   "cell_type": "code",
   "execution_count": 1,
   "metadata": {},
   "outputs": [
    {
     "name": "stderr",
     "output_type": "stream",
     "text": [
      "25/04/01 22:22:55 WARN Utils: Your hostname, MacBook-Pro-Vladimir-2.local resolves to a loopback address: 127.0.0.1; using 192.168.100.95 instead (on interface en0)\n",
      "25/04/01 22:22:55 WARN Utils: Set SPARK_LOCAL_IP if you need to bind to another address\n",
      "Setting default log level to \"WARN\".\n",
      "To adjust logging level use sc.setLogLevel(newLevel). For SparkR, use setLogLevel(newLevel).\n",
      "25/04/01 22:22:55 WARN NativeCodeLoader: Unable to load native-hadoop library for your platform... using builtin-java classes where applicable\n",
      "                                                                                \r"
     ]
    },
    {
     "name": "stdout",
     "output_type": "stream",
     "text": [
      "+-------+---+\n",
      "|   name|age|\n",
      "+-------+---+\n",
      "|  Alice| 30|\n",
      "|Charlie| 35|\n",
      "+-------+---+\n",
      "\n"
     ]
    }
   ],
   "source": [
    "from pyspark.sql import SparkSession\n",
    "\n",
    "# Инициализация SparkSession\n",
    "spark = SparkSession.builder.appName(\"RDDExample\").getOrCreate()\n",
    "\n",
    "# Создание RDD из списка\n",
    "data = [(\"Alice\", 30), (\"Bob\", 25), (\"Charlie\", 35)]\n",
    "rdd = spark.sparkContext.parallelize(data)\n",
    "\n",
    "# Преобразование RDD (фильтрация по возрасту)\n",
    "filtered_rdd = rdd.filter(lambda x: x[1] > 28)\n",
    "\n",
    "# Преобразование в DataFrame\n",
    "df = filtered_rdd.toDF([\"name\", \"age\"])\n",
    "\n",
    "# Вывод результата\n",
    "df.show()\n",
    "\n",
    "# Остановка Spark\n",
    "spark.stop()\n"
   ]
  },
  {
   "cell_type": "markdown",
   "metadata": {},
   "source": [
    "# 3. Агрегация данных в PySpark\n",
    "Считаем средний возраст по городам."
   ]
  },
  {
   "cell_type": "code",
   "execution_count": 2,
   "metadata": {},
   "outputs": [
    {
     "name": "stdout",
     "output_type": "stream",
     "text": [
      "+--------+-----------+\n",
      "|    city|average_age|\n",
      "+--------+-----------+\n",
      "|New York|       32.5|\n",
      "| Chicago|       25.0|\n",
      "+--------+-----------+\n",
      "\n"
     ]
    }
   ],
   "source": [
    "from pyspark.sql import SparkSession\n",
    "from pyspark.sql.functions import avg\n",
    "\n",
    "spark = SparkSession.builder.appName(\"AggregationExample\").getOrCreate()\n",
    "\n",
    "data = [(\"Alice\", 30, \"New York\"), (\"Bob\", 25, \"Chicago\"), (\"Charlie\", 35, \"New York\")]\n",
    "df = spark.createDataFrame(data, [\"name\", \"age\", \"city\"])\n",
    "\n",
    "# Группировка по городу и вычисление среднего возраста\n",
    "df_grouped = df.groupBy(\"city\").agg(avg(\"age\").alias(\"average_age\"))\n",
    "\n",
    "df_grouped.show()\n",
    "\n",
    "spark.stop()"
   ]
  },
  {
   "cell_type": "markdown",
   "metadata": {},
   "source": [
    "# 4. Джойн двух DataFrame (SQL JOIN)"
   ]
  },
  {
   "cell_type": "code",
   "execution_count": 3,
   "metadata": {},
   "outputs": [
    {
     "name": "stderr",
     "output_type": "stream",
     "text": [
      "                                                                                \r"
     ]
    },
    {
     "name": "stdout",
     "output_type": "stream",
     "text": [
      "+---+-----+--------+\n",
      "| id| name|    city|\n",
      "+---+-----+--------+\n",
      "|  1|Alice|New York|\n",
      "|  2|  Bob| Chicago|\n",
      "+---+-----+--------+\n",
      "\n"
     ]
    }
   ],
   "source": [
    "from pyspark.sql import SparkSession\n",
    "\n",
    "spark = SparkSession.builder.appName(\"JoinExample\").getOrCreate()\n",
    "\n",
    "data1 = [(1, \"Alice\"), (2, \"Bob\"), (3, \"Charlie\")]\n",
    "data2 = [(1, \"New York\"), (2, \"Chicago\"), (4, \"Los Angeles\")]\n",
    "\n",
    "df1 = spark.createDataFrame(data1, [\"id\", \"name\"])\n",
    "df2 = spark.createDataFrame(data2, [\"id\", \"city\"])\n",
    "\n",
    "# INNER JOIN по id\n",
    "df_joined = df1.join(df2, on=\"id\", how=\"inner\")\n",
    "\n",
    "df_joined.show()\n",
    "\n",
    "spark.stop()\n"
   ]
  },
  {
   "cell_type": "markdown",
   "metadata": {},
   "source": [
    "# 5. Использование оконных функций\n",
    "Добавляем колонку с порядковым номером по убыванию возраста."
   ]
  },
  {
   "cell_type": "code",
   "execution_count": 4,
   "metadata": {},
   "outputs": [
    {
     "name": "stderr",
     "output_type": "stream",
     "text": [
      "25/04/01 22:23:05 WARN WindowExec: No Partition Defined for Window operation! Moving all data to a single partition, this can cause serious performance degradation.\n",
      "25/04/01 22:23:05 WARN WindowExec: No Partition Defined for Window operation! Moving all data to a single partition, this can cause serious performance degradation.\n",
      "25/04/01 22:23:05 WARN WindowExec: No Partition Defined for Window operation! Moving all data to a single partition, this can cause serious performance degradation.\n",
      "                                                                                \r"
     ]
    },
    {
     "name": "stdout",
     "output_type": "stream",
     "text": [
      "+-------+---+----+\n",
      "|   name|age|rank|\n",
      "+-------+---+----+\n",
      "|Charlie| 35|   1|\n",
      "|  Alice| 30|   2|\n",
      "|    Bob| 25|   3|\n",
      "+-------+---+----+\n",
      "\n"
     ]
    }
   ],
   "source": [
    "from pyspark.sql import SparkSession\n",
    "from pyspark.sql.window import Window\n",
    "from pyspark.sql.functions import row_number\n",
    "\n",
    "spark = SparkSession.builder.appName(\"WindowExample\").getOrCreate()\n",
    "\n",
    "data = [(\"Alice\", 30), (\"Bob\", 25), (\"Charlie\", 35)]\n",
    "df = spark.createDataFrame(data, [\"name\", \"age\"])\n",
    "\n",
    "# Определяем окно сортировки\n",
    "window_spec = Window.orderBy(df[\"age\"].desc())\n",
    "\n",
    "# Добавляем порядковый номер\n",
    "df = df.withColumn(\"rank\", row_number().over(window_spec))\n",
    "\n",
    "df.show()\n",
    "\n",
    "spark.stop()\n"
   ]
  }
 ],
 "metadata": {
  "kernelspec": {
   "display_name": "venv",
   "language": "python",
   "name": "python3"
  },
  "language_info": {
   "codemirror_mode": {
    "name": "ipython",
    "version": 3
   },
   "file_extension": ".py",
   "mimetype": "text/x-python",
   "name": "python",
   "nbconvert_exporter": "python",
   "pygments_lexer": "ipython3",
   "version": "3.12.9"
  }
 },
 "nbformat": 4,
 "nbformat_minor": 2
}
